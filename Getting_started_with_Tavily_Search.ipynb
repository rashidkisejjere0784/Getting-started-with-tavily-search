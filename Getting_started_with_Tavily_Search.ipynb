{
  "nbformat": 4,
  "nbformat_minor": 0,
  "metadata": {
    "colab": {
      "provenance": [],
      "authorship_tag": "ABX9TyPkf7+/p7JREiTajnxXgbPI",
      "include_colab_link": true
    },
    "kernelspec": {
      "name": "python3",
      "display_name": "Python 3"
    },
    "language_info": {
      "name": "python"
    }
  },
  "cells": [
    {
      "cell_type": "markdown",
      "metadata": {
        "id": "view-in-github",
        "colab_type": "text"
      },
      "source": [
        "<a href=\"https://colab.research.google.com/github/rashidkisejjere0784/Getting-started-with-tavily-search/blob/main/Getting_started_with_Tavily_Search.ipynb\" target=\"_parent\"><img src=\"https://colab.research.google.com/assets/colab-badge.svg\" alt=\"Open In Colab\"/></a>"
      ]
    },
    {
      "cell_type": "code",
      "execution_count": 1,
      "metadata": {
        "colab": {
          "base_uri": "https://localhost:8080/"
        },
        "id": "j-UBebmhCjkx",
        "outputId": "3699a9bb-2ade-44be-ebef-3924af704d8e"
      },
      "outputs": [
        {
          "output_type": "stream",
          "name": "stdout",
          "text": [
            "\u001b[2K     \u001b[90m━━━━━━━━━━━━━━━━━━━━━━━━━━━━━━━━━━━━━━━━\u001b[0m \u001b[32m2.2/2.2 MB\u001b[0m \u001b[31m19.6 MB/s\u001b[0m eta \u001b[36m0:00:00\u001b[0m\n",
            "\u001b[2K     \u001b[90m━━━━━━━━━━━━━━━━━━━━━━━━━━━━━━━━━━━━━━━━\u001b[0m \u001b[32m983.6/983.6 kB\u001b[0m \u001b[31m32.3 MB/s\u001b[0m eta \u001b[36m0:00:00\u001b[0m\n",
            "\u001b[2K     \u001b[90m━━━━━━━━━━━━━━━━━━━━━━━━━━━━━━━━━━━━━━━━\u001b[0m \u001b[32m355.8/355.8 kB\u001b[0m \u001b[31m18.7 MB/s\u001b[0m eta \u001b[36m0:00:00\u001b[0m\n",
            "\u001b[2K     \u001b[90m━━━━━━━━━━━━━━━━━━━━━━━━━━━━━━━━━━━━━━━━\u001b[0m \u001b[32m127.9/127.9 kB\u001b[0m \u001b[31m2.6 MB/s\u001b[0m eta \u001b[36m0:00:00\u001b[0m\n",
            "\u001b[2K     \u001b[90m━━━━━━━━━━━━━━━━━━━━━━━━━━━━━━━━━━━━━━━━\u001b[0m \u001b[32m1.1/1.1 MB\u001b[0m \u001b[31m22.5 MB/s\u001b[0m eta \u001b[36m0:00:00\u001b[0m\n",
            "\u001b[2K     \u001b[90m━━━━━━━━━━━━━━━━━━━━━━━━━━━━━━━━━━━━━━━━\u001b[0m \u001b[32m49.2/49.2 kB\u001b[0m \u001b[31m3.0 MB/s\u001b[0m eta \u001b[36m0:00:00\u001b[0m\n",
            "\u001b[2K     \u001b[90m━━━━━━━━━━━━━━━━━━━━━━━━━━━━━━━━━━━━━━━━\u001b[0m \u001b[32m141.1/141.1 kB\u001b[0m \u001b[31m3.4 MB/s\u001b[0m eta \u001b[36m0:00:00\u001b[0m\n",
            "\u001b[?25h"
          ]
        }
      ],
      "source": [
        "!pip install langchain-community tavily-python -q"
      ]
    },
    {
      "cell_type": "code",
      "source": [
        "import os\n",
        "\n",
        "os.environ['TAVILY_API_KEY'] = \"YOUR TAVILY API KEY\"\n",
        "os.environ[\"LANGCHAIN_TRACING_V2\"] = \"true\""
      ],
      "metadata": {
        "id": "M8ea5nLADFRa"
      },
      "execution_count": 2,
      "outputs": []
    },
    {
      "cell_type": "code",
      "source": [
        "from langchain_community.tools.tavily_search import TavilySearchResults\n",
        "\n",
        "tool = TavilySearchResults()"
      ],
      "metadata": {
        "id": "X4E3Y3_BDFN9"
      },
      "execution_count": 3,
      "outputs": []
    },
    {
      "cell_type": "code",
      "source": [
        "tool.invoke({\"query\": \"who is the current richest man\"})"
      ],
      "metadata": {
        "colab": {
          "base_uri": "https://localhost:8080/"
        },
        "id": "EEm9MMKaDFLE",
        "outputId": "324a82e2-7241-49af-adab-2154f4a2cd73"
      },
      "execution_count": 4,
      "outputs": [
        {
          "output_type": "stream",
          "name": "stderr",
          "text": [
            "--- Logging error ---\n",
            "Traceback (most recent call last):\n",
            "  File \"/usr/local/lib/python3.10/dist-packages/langchain_core/callbacks/manager.py\", line 2131, in _configure\n",
            "    handler = LangChainTracer(\n",
            "  File \"/usr/local/lib/python3.10/dist-packages/langchain_core/tracers/langchain.py\", line 91, in __init__\n",
            "    self.client = client or get_client()\n",
            "  File \"/usr/local/lib/python3.10/dist-packages/langchain_core/tracers/langchain.py\", line 54, in get_client\n",
            "    _CLIENT = Client()\n",
            "  File \"/usr/local/lib/python3.10/dist-packages/langsmith/client.py\", line 561, in __init__\n",
            "    _validate_api_key_if_hosted(self.api_url, self.api_key)\n",
            "  File \"/usr/local/lib/python3.10/dist-packages/langsmith/client.py\", line 327, in _validate_api_key_if_hosted\n",
            "    raise ls_utils.LangSmithUserError(\n",
            "langsmith.utils.LangSmithUserError: API key must be provided when using hosted LangSmith API\n",
            "\n",
            "During handling of the above exception, another exception occurred:\n",
            "\n",
            "Traceback (most recent call last):\n",
            "  File \"/usr/lib/python3.10/logging/__init__.py\", line 1100, in emit\n",
            "    msg = self.format(record)\n",
            "  File \"/usr/lib/python3.10/logging/__init__.py\", line 943, in format\n",
            "    return fmt.format(record)\n",
            "  File \"/usr/lib/python3.10/logging/__init__.py\", line 678, in format\n",
            "    record.message = record.getMessage()\n",
            "  File \"/usr/lib/python3.10/logging/__init__.py\", line 368, in getMessage\n",
            "    msg = msg % self.args\n",
            "TypeError: not all arguments converted during string formatting\n",
            "Call stack:\n",
            "  File \"/usr/lib/python3.10/runpy.py\", line 196, in _run_module_as_main\n",
            "    return _run_code(code, main_globals, None,\n",
            "  File \"/usr/lib/python3.10/runpy.py\", line 86, in _run_code\n",
            "    exec(code, run_globals)\n",
            "  File \"/usr/local/lib/python3.10/dist-packages/colab_kernel_launcher.py\", line 37, in <module>\n",
            "    ColabKernelApp.launch_instance()\n",
            "  File \"/usr/local/lib/python3.10/dist-packages/traitlets/config/application.py\", line 992, in launch_instance\n",
            "    app.start()\n",
            "  File \"/usr/local/lib/python3.10/dist-packages/ipykernel/kernelapp.py\", line 619, in start\n",
            "    self.io_loop.start()\n",
            "  File \"/usr/local/lib/python3.10/dist-packages/tornado/platform/asyncio.py\", line 195, in start\n",
            "    self.asyncio_loop.run_forever()\n",
            "  File \"/usr/lib/python3.10/asyncio/base_events.py\", line 603, in run_forever\n",
            "    self._run_once()\n",
            "  File \"/usr/lib/python3.10/asyncio/base_events.py\", line 1909, in _run_once\n",
            "    handle._run()\n",
            "  File \"/usr/lib/python3.10/asyncio/events.py\", line 80, in _run\n",
            "    self._context.run(self._callback, *self._args)\n",
            "  File \"/usr/local/lib/python3.10/dist-packages/tornado/ioloop.py\", line 685, in <lambda>\n",
            "    lambda f: self._run_callback(functools.partial(callback, future))\n",
            "  File \"/usr/local/lib/python3.10/dist-packages/tornado/ioloop.py\", line 738, in _run_callback\n",
            "    ret = callback()\n",
            "  File \"/usr/local/lib/python3.10/dist-packages/tornado/gen.py\", line 825, in inner\n",
            "    self.ctx_run(self.run)\n",
            "  File \"/usr/local/lib/python3.10/dist-packages/tornado/gen.py\", line 786, in run\n",
            "    yielded = self.gen.send(value)\n",
            "  File \"/usr/local/lib/python3.10/dist-packages/ipykernel/kernelbase.py\", line 361, in process_one\n",
            "    yield gen.maybe_future(dispatch(*args))\n",
            "  File \"/usr/local/lib/python3.10/dist-packages/tornado/gen.py\", line 234, in wrapper\n",
            "    yielded = ctx_run(next, result)\n",
            "  File \"/usr/local/lib/python3.10/dist-packages/ipykernel/kernelbase.py\", line 261, in dispatch_shell\n",
            "    yield gen.maybe_future(handler(stream, idents, msg))\n",
            "  File \"/usr/local/lib/python3.10/dist-packages/tornado/gen.py\", line 234, in wrapper\n",
            "    yielded = ctx_run(next, result)\n",
            "  File \"/usr/local/lib/python3.10/dist-packages/ipykernel/kernelbase.py\", line 539, in execute_request\n",
            "    self.do_execute(\n",
            "  File \"/usr/local/lib/python3.10/dist-packages/tornado/gen.py\", line 234, in wrapper\n",
            "    yielded = ctx_run(next, result)\n",
            "  File \"/usr/local/lib/python3.10/dist-packages/ipykernel/ipkernel.py\", line 302, in do_execute\n",
            "    res = shell.run_cell(code, store_history=store_history, silent=silent)\n",
            "  File \"/usr/local/lib/python3.10/dist-packages/ipykernel/zmqshell.py\", line 539, in run_cell\n",
            "    return super(ZMQInteractiveShell, self).run_cell(*args, **kwargs)\n",
            "  File \"/usr/local/lib/python3.10/dist-packages/IPython/core/interactiveshell.py\", line 2975, in run_cell\n",
            "    result = self._run_cell(\n",
            "  File \"/usr/local/lib/python3.10/dist-packages/IPython/core/interactiveshell.py\", line 3030, in _run_cell\n",
            "    return runner(coro)\n",
            "  File \"/usr/local/lib/python3.10/dist-packages/IPython/core/async_helpers.py\", line 78, in _pseudo_sync_runner\n",
            "    coro.send(None)\n",
            "  File \"/usr/local/lib/python3.10/dist-packages/IPython/core/interactiveshell.py\", line 3257, in run_cell_async\n",
            "    has_raised = await self.run_ast_nodes(code_ast.body, cell_name,\n",
            "  File \"/usr/local/lib/python3.10/dist-packages/IPython/core/interactiveshell.py\", line 3473, in run_ast_nodes\n",
            "    if (await self.run_code(code, result,  async_=asy)):\n",
            "  File \"/usr/local/lib/python3.10/dist-packages/IPython/core/interactiveshell.py\", line 3553, in run_code\n",
            "    exec(code_obj, self.user_global_ns, self.user_ns)\n",
            "  File \"<ipython-input-4-4d10ee78a9e2>\", line 1, in <cell line: 1>\n",
            "    tool.invoke({\"query\": \"who is the current richest man\"})\n",
            "  File \"/usr/local/lib/python3.10/dist-packages/langchain_core/tools.py\", line 379, in invoke\n",
            "    return self.run(\n",
            "  File \"/usr/local/lib/python3.10/dist-packages/langchain_core/tools.py\", line 494, in run\n",
            "    callback_manager = CallbackManager.configure(\n",
            "  File \"/usr/local/lib/python3.10/dist-packages/langchain_core/callbacks/manager.py\", line 1528, in configure\n",
            "    return _configure(\n",
            "  File \"/usr/local/lib/python3.10/dist-packages/langchain_core/callbacks/manager.py\", line 2137, in _configure\n",
            "    logger.warning(\n",
            "Message: 'Unable to load requested LangChainTracer. To disable this warning, unset the LANGCHAIN_TRACING_V2 environment variables.'\n",
            "Arguments: (\"LangSmithUserError('API key must be provided when using hosted LangSmith API')\",)\n"
          ]
        },
        {
          "output_type": "execute_result",
          "data": {
            "text/plain": [
              "[{'url': 'https://www.forbes.com/real-time-billionaires/',\n",
              "  'content': \"Forbes' Real-Time Billionaires rankings tracks the daily ups and downs of the world's richest people. The wealth-tracking platform provides ongoing updates on the net worth and ranking of each ...\"},\n",
              " {'url': 'https://www.cnn.com/2024/03/04/business/jeff-bezos-richest-man-on-earth/index.html',\n",
              "  'content': 'CNN values your feedback\\nMarkets\\nHot Stocks\\nFear & Greed Index\\nLatest Market News\\nHot Stocks\\nJeff Bezos dethrones Elon Musk to become the richest person on Earth again\\nFollow:\\nJeff Bezos has reclaimed the title of the richest person on Earth, surpassing Elon Musk, according to the Bloomberg Billionaires Index on Monday.\\n Musk and Arnault still hold plenty of wealth — since 2020, the net worth of the five wealthiest people on earth has skyrocketed 114% to a total of $869 billion, after taking inflation into account, according to\\xa0Oxfam’s annual inequality report.\\n- CNN’s Michelle Toh, Tami Luhby and Chris Isidore contributed to this report.\\n The Dow Jones branded indices are proprietary to and are calculated, distributed and marketed by DJI Opco, a subsidiary of S&P Dow Jones Indices LLC and have been licensed for use to S&P Opco, LLC and CNN. Earlier this year, a Delaware state court judge threw out Musk’s 2018 pay package — worth more than $50 billion — that helped to make him one of the richest people in the world. Standard & Poor’s and S&P are registered trademarks of Standard & Poor’s Financial Services LLC and Dow Jones is a registered trademark of Dow Jones Trademark Holdings LLC.'},\n",
              " {'url': 'https://www.statista.com/chart/13158/the-richest-people-on-the-planet/',\n",
              "  'content': 'Industry Overview\\nDigital & Trend reports\\nOverview and forecasts on trending topics\\nIndustry & Market reports\\nIndustry and market insights and forecasts\\nCompanies & Products reports\\nKey figures and rankings about companies and products\\nConsumer & Brand reports\\nConsumer and brand insights and preferences in various industries\\nPolitics & Society reports\\nDetailed information about political and social topics\\nCountry & Region reports\\nAll key figures about countries and regions\\nMarket forecast and expert KPIs for 1000+ markets in 190+ countries & territories\\nInsights on consumer attitudes and behavior worldwide\\nBusiness information on 100m+ public and private companies\\nExplore Company Insights\\nDetailed information for 39,000+ online stores and marketplaces\\nDirectly accessible data for 170 industries from 150+ countries\\nand over 1\\xa0Mio. facts.\\n Related Infographics\\nAdvertising\\nAI\\nMarketing\\nforbes 400 2023\\nwealth\\nBillionaires\\nTwitter vs Threads\\nForbes rich list\\nForbes Rich List\\nElectric Vehicles\\nWealth gap\\nArtificial Intelligence\\nFAQ\\nAny more questions?\\n Transforming data into design:\\nStatista Content & Design\\nStrategy and business building for the data-driven economy:\\nThe World’s Richest People in 2023\\nForbes Billionaires Index\\nBernard Arnault (74) has been named the world’s richest man of 2023 with an estimated fortune of $211 billion, according to Forbes’ 37th annual billionaires list, released Tuesday. Arnault is the head of the luxury goods giant LVMH, which includes the likes of Louis Vuitton and Dior, and the first Frenchman to top the world ranking after having moved up from third place last year.\\n Customized Research & Analysis projects:\\nGet quick analyses with our professional research service\\nThe best of the best: the portal for top lists & rankings:\\n'},\n",
              " {'url': 'https://www.cnn.com/2023/05/31/business/elon-musk-worlds-richest-man-intl-hnk/index.html',\n",
              "  'content': 'CNN values your feedback\\nMarkets\\nFear & Greed Index\\nLatest Market News\\nElon Musk is once again the world’s richest man\\nElon Musk has reclaimed his position as the world’s wealthiest person.\\n The Dow Jones branded indices are proprietary to and are calculated, distributed and marketed by DJI Opco, a subsidiary of S&P Dow Jones Indices LLC and have been licensed for use to S&P Opco, LLC and CNN. That’s according to a Bloomberg Billionaires tally, which estimated the Tesla\\n(TSLA) CEO’s net worth is now about $192 billion, compared to LVMH\\n(LVMHF) Standard & Poor’s and S&P are registered trademarks of Standard & Poor’s Financial Services LLC and Dow Jones is a registered trademark of Dow Jones Trademark Holdings LLC. 31 billionaires are worth more than the US Treasury has in cash\\nArnault surpassed Musk in December, as his wealth climbed due to a boom in luxury goods sales that helped drive up LVMH’s stock price.'},\n",
              " {'url': 'https://www.bloomberg.com/billionaires/',\n",
              "  'content': \"Bloomberg\\nConnecting decision makers to a dynamic network of information, people and ideas, Bloomberg quickly and accurately delivers business and financial information, news and insight around the world\\nFor Customers\\nSupport\\nAmericas+1 212 318 2000\\nEMEA+44 20 7330 7500\\nAsia Pacific+65 6212 1000\\nCompany\\nCommunications\\nFollow\\nProducts\\nIndustry Products\\nMedia\\nMedia Services\\nCompany\\nCommunications\\nFollow\\nProducts\\nIndustry Products\\nMedia\\nMedia Services\\nBloomberg\\nConnecting decision makers to a dynamic network of information, people and ideas, Bloomberg quickly and accurately delivers business and financial information, news and insight around the world\\nFor Customers\\nSupport\\nAmericas+1 212 318 2000\\nEMEA+44 20 7330 7500\\nAsia Pacific+65 6212 1000\\nBloomberg Billionaires Index\\nView profiles\\nfor each of the world’s 500 richest people, see the biggest movers, and compare fortunes\\nor track returns.\\n Read\\nour complete methodology →\\nEdited by:\\nBrian Chappatta, Tom Maloney, Jack Witzig, Pei Yi Mak and Andrew Heathcote\\nDesign & development:\\nChristopher Cannon, Dean Halford, Brittany Harris and Julian Burgess\\nBloomberg Billionaires Index In calculating net worth, Bloomberg News strives to provide the most transparent calculations available,\\nand each individual billionaire profile contains a detailed analysis of how that person's fortune is tallied.\\n Source: Bloomberg reporting\\nMethodology: The Bloomberg Billionaires Index is a daily ranking of the world's richest\\npeople. The index is a dynamic measure of personal wealth based on changes in markets, the economy and\\nBloomberg reporting.\"}]"
            ]
          },
          "metadata": {},
          "execution_count": 4
        }
      ]
    },
    {
      "cell_type": "code",
      "source": [
        "tool.invoke({\"query\": \"what is happening in kenya right now\"})"
      ],
      "metadata": {
        "colab": {
          "base_uri": "https://localhost:8080/"
        },
        "id": "YHV2iLAlDFIa",
        "outputId": "676c5959-ba30-448f-ccff-4630348f75ca"
      },
      "execution_count": 5,
      "outputs": [
        {
          "output_type": "stream",
          "name": "stderr",
          "text": [
            "--- Logging error ---\n",
            "Traceback (most recent call last):\n",
            "  File \"/usr/local/lib/python3.10/dist-packages/langchain_core/callbacks/manager.py\", line 2131, in _configure\n",
            "    handler = LangChainTracer(\n",
            "  File \"/usr/local/lib/python3.10/dist-packages/langchain_core/tracers/langchain.py\", line 91, in __init__\n",
            "    self.client = client or get_client()\n",
            "  File \"/usr/local/lib/python3.10/dist-packages/langchain_core/tracers/langchain.py\", line 54, in get_client\n",
            "    _CLIENT = Client()\n",
            "  File \"/usr/local/lib/python3.10/dist-packages/langsmith/client.py\", line 561, in __init__\n",
            "    _validate_api_key_if_hosted(self.api_url, self.api_key)\n",
            "  File \"/usr/local/lib/python3.10/dist-packages/langsmith/client.py\", line 327, in _validate_api_key_if_hosted\n",
            "    raise ls_utils.LangSmithUserError(\n",
            "langsmith.utils.LangSmithUserError: API key must be provided when using hosted LangSmith API\n",
            "\n",
            "During handling of the above exception, another exception occurred:\n",
            "\n",
            "Traceback (most recent call last):\n",
            "  File \"/usr/lib/python3.10/logging/__init__.py\", line 1100, in emit\n",
            "    msg = self.format(record)\n",
            "  File \"/usr/lib/python3.10/logging/__init__.py\", line 943, in format\n",
            "    return fmt.format(record)\n",
            "  File \"/usr/lib/python3.10/logging/__init__.py\", line 678, in format\n",
            "    record.message = record.getMessage()\n",
            "  File \"/usr/lib/python3.10/logging/__init__.py\", line 368, in getMessage\n",
            "    msg = msg % self.args\n",
            "TypeError: not all arguments converted during string formatting\n",
            "Call stack:\n",
            "  File \"/usr/lib/python3.10/runpy.py\", line 196, in _run_module_as_main\n",
            "    return _run_code(code, main_globals, None,\n",
            "  File \"/usr/lib/python3.10/runpy.py\", line 86, in _run_code\n",
            "    exec(code, run_globals)\n",
            "  File \"/usr/local/lib/python3.10/dist-packages/colab_kernel_launcher.py\", line 37, in <module>\n",
            "    ColabKernelApp.launch_instance()\n",
            "  File \"/usr/local/lib/python3.10/dist-packages/traitlets/config/application.py\", line 992, in launch_instance\n",
            "    app.start()\n",
            "  File \"/usr/local/lib/python3.10/dist-packages/ipykernel/kernelapp.py\", line 619, in start\n",
            "    self.io_loop.start()\n",
            "  File \"/usr/local/lib/python3.10/dist-packages/tornado/platform/asyncio.py\", line 195, in start\n",
            "    self.asyncio_loop.run_forever()\n",
            "  File \"/usr/lib/python3.10/asyncio/base_events.py\", line 603, in run_forever\n",
            "    self._run_once()\n",
            "  File \"/usr/lib/python3.10/asyncio/base_events.py\", line 1909, in _run_once\n",
            "    handle._run()\n",
            "  File \"/usr/lib/python3.10/asyncio/events.py\", line 80, in _run\n",
            "    self._context.run(self._callback, *self._args)\n",
            "  File \"/usr/local/lib/python3.10/dist-packages/tornado/ioloop.py\", line 685, in <lambda>\n",
            "    lambda f: self._run_callback(functools.partial(callback, future))\n",
            "  File \"/usr/local/lib/python3.10/dist-packages/tornado/ioloop.py\", line 738, in _run_callback\n",
            "    ret = callback()\n",
            "  File \"/usr/local/lib/python3.10/dist-packages/tornado/gen.py\", line 825, in inner\n",
            "    self.ctx_run(self.run)\n",
            "  File \"/usr/local/lib/python3.10/dist-packages/tornado/gen.py\", line 786, in run\n",
            "    yielded = self.gen.send(value)\n",
            "  File \"/usr/local/lib/python3.10/dist-packages/ipykernel/kernelbase.py\", line 361, in process_one\n",
            "    yield gen.maybe_future(dispatch(*args))\n",
            "  File \"/usr/local/lib/python3.10/dist-packages/tornado/gen.py\", line 234, in wrapper\n",
            "    yielded = ctx_run(next, result)\n",
            "  File \"/usr/local/lib/python3.10/dist-packages/ipykernel/kernelbase.py\", line 261, in dispatch_shell\n",
            "    yield gen.maybe_future(handler(stream, idents, msg))\n",
            "  File \"/usr/local/lib/python3.10/dist-packages/tornado/gen.py\", line 234, in wrapper\n",
            "    yielded = ctx_run(next, result)\n",
            "  File \"/usr/local/lib/python3.10/dist-packages/ipykernel/kernelbase.py\", line 539, in execute_request\n",
            "    self.do_execute(\n",
            "  File \"/usr/local/lib/python3.10/dist-packages/tornado/gen.py\", line 234, in wrapper\n",
            "    yielded = ctx_run(next, result)\n",
            "  File \"/usr/local/lib/python3.10/dist-packages/ipykernel/ipkernel.py\", line 302, in do_execute\n",
            "    res = shell.run_cell(code, store_history=store_history, silent=silent)\n",
            "  File \"/usr/local/lib/python3.10/dist-packages/ipykernel/zmqshell.py\", line 539, in run_cell\n",
            "    return super(ZMQInteractiveShell, self).run_cell(*args, **kwargs)\n",
            "  File \"/usr/local/lib/python3.10/dist-packages/IPython/core/interactiveshell.py\", line 2975, in run_cell\n",
            "    result = self._run_cell(\n",
            "  File \"/usr/local/lib/python3.10/dist-packages/IPython/core/interactiveshell.py\", line 3030, in _run_cell\n",
            "    return runner(coro)\n",
            "  File \"/usr/local/lib/python3.10/dist-packages/IPython/core/async_helpers.py\", line 78, in _pseudo_sync_runner\n",
            "    coro.send(None)\n",
            "  File \"/usr/local/lib/python3.10/dist-packages/IPython/core/interactiveshell.py\", line 3257, in run_cell_async\n",
            "    has_raised = await self.run_ast_nodes(code_ast.body, cell_name,\n",
            "  File \"/usr/local/lib/python3.10/dist-packages/IPython/core/interactiveshell.py\", line 3473, in run_ast_nodes\n",
            "    if (await self.run_code(code, result,  async_=asy)):\n",
            "  File \"/usr/local/lib/python3.10/dist-packages/IPython/core/interactiveshell.py\", line 3553, in run_code\n",
            "    exec(code_obj, self.user_global_ns, self.user_ns)\n",
            "  File \"<ipython-input-5-cfb6615beb16>\", line 1, in <cell line: 1>\n",
            "    tool.invoke({\"query\": \"what is happening in kenya right now\"})\n",
            "  File \"/usr/local/lib/python3.10/dist-packages/langchain_core/tools.py\", line 379, in invoke\n",
            "    return self.run(\n",
            "  File \"/usr/local/lib/python3.10/dist-packages/langchain_core/tools.py\", line 494, in run\n",
            "    callback_manager = CallbackManager.configure(\n",
            "  File \"/usr/local/lib/python3.10/dist-packages/langchain_core/callbacks/manager.py\", line 1528, in configure\n",
            "    return _configure(\n",
            "  File \"/usr/local/lib/python3.10/dist-packages/langchain_core/callbacks/manager.py\", line 2137, in _configure\n",
            "    logger.warning(\n",
            "Message: 'Unable to load requested LangChainTracer. To disable this warning, unset the LANGCHAIN_TRACING_V2 environment variables.'\n",
            "Arguments: (\"LangSmithUserError('API key must be provided when using hosted LangSmith API')\",)\n"
          ]
        },
        {
          "output_type": "execute_result",
          "data": {
            "text/plain": [
              "[{'url': 'https://www.cnn.com/world/live-news/protest-kenya-nairobi-06-25-24/index.html',\n",
              "  'content': \"Earlier on Tuesday, protesters stormed Kenya's parliament. Nairobi City Hall was on fire as outrage swelled against a controversial finance bill. Madowo said he believed that these paramedics ...\"},\n",
              " {'url': 'https://www.aljazeera.com/where/kenya/',\n",
              "  'content': \"Kenya's Ruto announces finance bill U-turn after deadly protests. President William Ruto says he rejects a finance bill that contained a series of tax hikes after nationwide protests. Stay on ...\"},\n",
              " {'url': 'https://www.aljazeera.com/news/2024/7/1/tax-hike-protests-in-kenya-killed-at-least-39-people-says-rights-watchdog',\n",
              "  'content': 'At least 39 people have been killed in recent anti-government protests in Kenya, says the national rights watchdog, as activists gear up for a new round of protests this week.. The toll, announced ...'},\n",
              " {'url': 'https://www.cnn.com/2023/07/20/africa/kenya-cost-of-living-protests-explainer-intl/index.html',\n",
              "  'content': '03:07 - Source: CNN. CNN —. A wave of deadly protests has hit Kenya as anger over tax hikes and the cost of living spilled into the streets. At least three people were reportedly killed in the ...'},\n",
              " {'url': 'https://www.bbc.com/news/live/c7222r7mgz2t',\n",
              "  'content': \"The choices facing Kenya's President William Ruto are now far from easy. Elected in 2022 pledging to cut corruption, shore up the country's faltering economy and help the poor, the embattled Mr ...\"}]"
            ]
          },
          "metadata": {},
          "execution_count": 5
        }
      ]
    },
    {
      "cell_type": "code",
      "source": [],
      "metadata": {
        "id": "xdzy1SW9DFFt"
      },
      "execution_count": null,
      "outputs": []
    }
  ]
}